{
 "cells": [
  {
   "cell_type": "code",
   "execution_count": 3,
   "metadata": {},
   "outputs": [],
   "source": [
    "# VRP data from https://developers.google.com/optimization/routing/vrp#create_the_data\n",
    "\n",
    "vrp_data = {\n",
    "    'distance_matrix': [\n",
    "        [0, 548, 776, 696, 582, 274, 502, 194, 308, 194, 536, 502, 388, 354, 468, 776, 662],\n",
    "        [548, 0, 684, 308, 194, 502, 730, 354, 696, 742, 1084, 594, 480, 674, 1016, 868, 1210],\n",
    "        [776, 684, 0, 992, 878, 502, 274, 810, 468, 742, 400, 1278, 1164, 1130, 788, 1552, 754],\n",
    "        [696, 308, 992, 0, 114, 650, 878, 502, 844, 890, 1232, 514, 628, 822, 1164, 560, 1358],\n",
    "        [582, 194, 878, 114, 0, 536, 764, 388, 730, 776, 1118, 400, 514, 708, 1050, 674, 1244],\n",
    "        [274, 502, 502, 650, 536, 0, 228, 308, 194, 240, 582, 776, 662, 628, 514, 1050, 708],\n",
    "        [502, 730, 274, 878, 764, 228, 0, 536, 194, 468, 354, 1004, 890, 856, 514, 1278, 480],\n",
    "        [194, 354, 810, 502, 388, 308, 536, 0, 342, 388, 730, 468, 354, 320, 662, 742, 856],\n",
    "        [308, 696, 468, 844, 730, 194, 194, 342, 0, 274, 388, 810, 696, 662, 320, 1084, 514],\n",
    "        [194, 742, 742, 890, 776, 240, 468, 388, 274, 0, 342, 536, 422, 388, 274, 810, 468],\n",
    "        [536, 1084, 400, 1232, 1118, 582, 354, 730, 388, 342, 0, 878, 764, 730, 388, 1152, 354],\n",
    "        [502, 594, 1278, 514, 400, 776, 1004, 468, 810, 536, 878, 0, 114, 308, 650, 274, 844],\n",
    "        [388, 480, 1164, 628, 514, 662, 890, 354, 696, 422, 764, 114, 0, 194, 536, 388, 730],\n",
    "        [354, 674, 1130, 822, 708, 628, 856, 320, 662, 388, 730, 308, 194, 0, 342, 422, 536],\n",
    "        [468, 1016, 788, 1164, 1050, 514, 514, 662, 320, 274, 388, 650, 536, 342, 0, 764, 194],\n",
    "        [776, 868, 1552, 560, 674, 1050, 1278, 742, 1084, 810, 1152, 274, 388, 422, 764, 0, 798],\n",
    "        [662, 1210, 754, 1358, 1244, 708, 480, 856, 514, 468, 354, 844, 730, 536, 194, 798, 0]\n",
    "    ],\n",
    "    'num_vehicles': 4,\n",
    "    'depot': 0\n",
    "}\n",
    "\n",
    "locations = {\n",
    "     'depot':  (456, 320),\n",
    "     '# location 1': (228, 0),\n",
    "     'location 2': (912, 0), \n",
    "     'location 3': (0, 80),   \n",
    "     'location 4': (114, 80), \n",
    "     'location 5': (570, 160),\n",
    "     'location 6': (798, 160), \n",
    "     'location 7': (342, 240), \n",
    "     'location 8': (684, 240), \n",
    "     'location 9': (570, 400), \n",
    "     'location 10': (912, 400), \n",
    "     'location 11': (114, 480), \n",
    "     'location 12': (228, 480), \n",
    "     'location 13': (342, 560), \n",
    "     'location 14': (684, 560), \n",
    "     'location 15': (0, 640),   \n",
    "     'location 16': (798, 640)    \n",
    "}"
   ]
  },
  {
   "cell_type": "code",
   "execution_count": 4,
   "metadata": {},
   "outputs": [],
   "source": [
    "data=vrp_data['distance_matrix']"
   ]
  },
  {
   "cell_type": "code",
   "execution_count": 5,
   "metadata": {},
   "outputs": [
    {
     "data": {
      "text/plain": [
       "[[0,\n",
       "  548,\n",
       "  776,\n",
       "  696,\n",
       "  582,\n",
       "  274,\n",
       "  502,\n",
       "  194,\n",
       "  308,\n",
       "  194,\n",
       "  536,\n",
       "  502,\n",
       "  388,\n",
       "  354,\n",
       "  468,\n",
       "  776,\n",
       "  662],\n",
       " [548,\n",
       "  0,\n",
       "  684,\n",
       "  308,\n",
       "  194,\n",
       "  502,\n",
       "  730,\n",
       "  354,\n",
       "  696,\n",
       "  742,\n",
       "  1084,\n",
       "  594,\n",
       "  480,\n",
       "  674,\n",
       "  1016,\n",
       "  868,\n",
       "  1210],\n",
       " [776,\n",
       "  684,\n",
       "  0,\n",
       "  992,\n",
       "  878,\n",
       "  502,\n",
       "  274,\n",
       "  810,\n",
       "  468,\n",
       "  742,\n",
       "  400,\n",
       "  1278,\n",
       "  1164,\n",
       "  1130,\n",
       "  788,\n",
       "  1552,\n",
       "  754],\n",
       " [696,\n",
       "  308,\n",
       "  992,\n",
       "  0,\n",
       "  114,\n",
       "  650,\n",
       "  878,\n",
       "  502,\n",
       "  844,\n",
       "  890,\n",
       "  1232,\n",
       "  514,\n",
       "  628,\n",
       "  822,\n",
       "  1164,\n",
       "  560,\n",
       "  1358],\n",
       " [582,\n",
       "  194,\n",
       "  878,\n",
       "  114,\n",
       "  0,\n",
       "  536,\n",
       "  764,\n",
       "  388,\n",
       "  730,\n",
       "  776,\n",
       "  1118,\n",
       "  400,\n",
       "  514,\n",
       "  708,\n",
       "  1050,\n",
       "  674,\n",
       "  1244],\n",
       " [274,\n",
       "  502,\n",
       "  502,\n",
       "  650,\n",
       "  536,\n",
       "  0,\n",
       "  228,\n",
       "  308,\n",
       "  194,\n",
       "  240,\n",
       "  582,\n",
       "  776,\n",
       "  662,\n",
       "  628,\n",
       "  514,\n",
       "  1050,\n",
       "  708],\n",
       " [502,\n",
       "  730,\n",
       "  274,\n",
       "  878,\n",
       "  764,\n",
       "  228,\n",
       "  0,\n",
       "  536,\n",
       "  194,\n",
       "  468,\n",
       "  354,\n",
       "  1004,\n",
       "  890,\n",
       "  856,\n",
       "  514,\n",
       "  1278,\n",
       "  480],\n",
       " [194,\n",
       "  354,\n",
       "  810,\n",
       "  502,\n",
       "  388,\n",
       "  308,\n",
       "  536,\n",
       "  0,\n",
       "  342,\n",
       "  388,\n",
       "  730,\n",
       "  468,\n",
       "  354,\n",
       "  320,\n",
       "  662,\n",
       "  742,\n",
       "  856],\n",
       " [308,\n",
       "  696,\n",
       "  468,\n",
       "  844,\n",
       "  730,\n",
       "  194,\n",
       "  194,\n",
       "  342,\n",
       "  0,\n",
       "  274,\n",
       "  388,\n",
       "  810,\n",
       "  696,\n",
       "  662,\n",
       "  320,\n",
       "  1084,\n",
       "  514],\n",
       " [194,\n",
       "  742,\n",
       "  742,\n",
       "  890,\n",
       "  776,\n",
       "  240,\n",
       "  468,\n",
       "  388,\n",
       "  274,\n",
       "  0,\n",
       "  342,\n",
       "  536,\n",
       "  422,\n",
       "  388,\n",
       "  274,\n",
       "  810,\n",
       "  468],\n",
       " [536,\n",
       "  1084,\n",
       "  400,\n",
       "  1232,\n",
       "  1118,\n",
       "  582,\n",
       "  354,\n",
       "  730,\n",
       "  388,\n",
       "  342,\n",
       "  0,\n",
       "  878,\n",
       "  764,\n",
       "  730,\n",
       "  388,\n",
       "  1152,\n",
       "  354],\n",
       " [502,\n",
       "  594,\n",
       "  1278,\n",
       "  514,\n",
       "  400,\n",
       "  776,\n",
       "  1004,\n",
       "  468,\n",
       "  810,\n",
       "  536,\n",
       "  878,\n",
       "  0,\n",
       "  114,\n",
       "  308,\n",
       "  650,\n",
       "  274,\n",
       "  844],\n",
       " [388,\n",
       "  480,\n",
       "  1164,\n",
       "  628,\n",
       "  514,\n",
       "  662,\n",
       "  890,\n",
       "  354,\n",
       "  696,\n",
       "  422,\n",
       "  764,\n",
       "  114,\n",
       "  0,\n",
       "  194,\n",
       "  536,\n",
       "  388,\n",
       "  730],\n",
       " [354,\n",
       "  674,\n",
       "  1130,\n",
       "  822,\n",
       "  708,\n",
       "  628,\n",
       "  856,\n",
       "  320,\n",
       "  662,\n",
       "  388,\n",
       "  730,\n",
       "  308,\n",
       "  194,\n",
       "  0,\n",
       "  342,\n",
       "  422,\n",
       "  536],\n",
       " [468,\n",
       "  1016,\n",
       "  788,\n",
       "  1164,\n",
       "  1050,\n",
       "  514,\n",
       "  514,\n",
       "  662,\n",
       "  320,\n",
       "  274,\n",
       "  388,\n",
       "  650,\n",
       "  536,\n",
       "  342,\n",
       "  0,\n",
       "  764,\n",
       "  194],\n",
       " [776,\n",
       "  868,\n",
       "  1552,\n",
       "  560,\n",
       "  674,\n",
       "  1050,\n",
       "  1278,\n",
       "  742,\n",
       "  1084,\n",
       "  810,\n",
       "  1152,\n",
       "  274,\n",
       "  388,\n",
       "  422,\n",
       "  764,\n",
       "  0,\n",
       "  798],\n",
       " [662,\n",
       "  1210,\n",
       "  754,\n",
       "  1358,\n",
       "  1244,\n",
       "  708,\n",
       "  480,\n",
       "  856,\n",
       "  514,\n",
       "  468,\n",
       "  354,\n",
       "  844,\n",
       "  730,\n",
       "  536,\n",
       "  194,\n",
       "  798,\n",
       "  0]]"
      ]
     },
     "execution_count": 5,
     "metadata": {},
     "output_type": "execute_result"
    }
   ],
   "source": [
    "data"
   ]
  },
  {
   "cell_type": "code",
   "execution_count": 6,
   "metadata": {},
   "outputs": [],
   "source": [
    "from operator import attrgetter\n",
    "from random import sample, random, randint, choice\n",
    "from copy import copy\n",
    "import numpy as np\n",
    "import sys\n",
    "\n",
    "class Individual:\n",
    "    # we always initialize\n",
    "    def __init__(self, num_vehicles, representation=None, size=None, valid_set=None):\n",
    "\n",
    "        #Removed repetition + created a route representation for the vehicles\n",
    "        if representation is None:\n",
    "            self.representation = [[] for _ in range(num_vehicles)]\n",
    "            locations = sample(valid_set, size)\n",
    "            #Randomly choosing how many of the vehicles will be used\n",
    "            vehicles_used = randint(1, num_vehicles)\n",
    "            # List of vehicles to use\n",
    "            vehicles = list(range(vehicles_used))\n",
    "            for location in locations:\n",
    "                # Randomly assign each location to one of the vehicles used\n",
    "                vehicle = choice(vehicles)\n",
    "                self.representation[vehicle].append(location)\n",
    "        else:\n",
    "            self.representation = representation\n",
    "\n",
    "        # fitness will be assigned to the individual\n",
    "        self.fitness = self.get_fitness()\n",
    "\n",
    "    # methods for the class\n",
    "    def get_fitness(self):\n",
    "        raise Exception(\"You need to monkey patch the fitness function.\")\n",
    "\n",
    "    def get_neighbours(self):\n",
    "        raise Exception(\"You need to monkey patch the neighbourhood function.\")\n",
    "\n",
    "    def index(self, value):\n",
    "        for i, sublist in enumerate(self.representation):\n",
    "            if sublist == value:\n",
    "                return i\n",
    "        raise ValueError(f\"{value} is not in list\")\n",
    "\n",
    "    def __len__(self):\n",
    "        return len(self.representation)\n",
    "\n",
    "    def __getitem__(self, position):\n",
    "        return self.representation[position]\n",
    "\n",
    "    def __setitem__(self, position, value):\n",
    "        self.representation[position] = value\n",
    "\n",
    "    def __repr__(self):\n",
    "        return f\" Fitness: {self.fitness}\"\n",
    "\n",
    "\n",
    "class Population:\n",
    "    def __init__(self, size, optim, individuals=[], **kwargs):\n",
    "        self.size = size\n",
    "        self.optim = optim\n",
    "        self.individuals = []\n",
    "        self.elite= []\n",
    "\n",
    "        # appending the population with individuals\n",
    "        for _ in range(size):\n",
    "            self.individuals.append(\n",
    "                Individual(\n",
    "                    num_vehicles=kwargs[\"num_vehicles\"],\n",
    "                    size=kwargs[\"sol_size\"],\n",
    "                    valid_set=kwargs[\"valid_set\"],\n",
    "                )\n",
    "            )\n",
    "    def evolve(self, xo_prob, mut_prob, select, xo, mutate, gens=100, elitism=1, xo_factor=0.2, mut_factor=2, plateau_tolerance=5):\n",
    "        best_fitness = 0\n",
    "        last_improvement = 1\n",
    "\n",
    "        for gen in range(gens):\n",
    "            new_pop = []\n",
    "            \n",
    "            #Multiple elites implementation\n",
    "            if elitism > 0:\n",
    "                if self.optim == \"max\":\n",
    "                    elite = sorted(self.individuals, key=attrgetter(\"fitness\"), reverse=True)[:elitism]\n",
    "                elif self.optim == \"min\":\n",
    "                    elite = sorted(self.individuals, key=attrgetter(\"fitness\"))[:elitism]\n",
    "                new_pop.extend(elite)\n",
    "\n",
    "            while len(new_pop) < self.size:\n",
    "                p1, p2 = select(self), select(self) # selection\n",
    "                \n",
    "                if random() < xo_prob: # xo with prob\n",
    "                    offspring1, offspring2 = xo(p1, p2)                \n",
    "                else: # replication\n",
    "                    offspring1, offspring2 = p1, p2\n",
    "\n",
    "                # mutation with prob\n",
    "                if random() < mut_prob:\n",
    "                    offspring1 = mutate(offspring1)\n",
    "                if random() < mut_prob:\n",
    "                    offspring2 = mutate(offspring2)\n",
    "\n",
    "                new_pop.append(Individual(representation=offspring1, num_vehicles=sum(1 for route in offspring1.representation if route)))\n",
    "                if len(new_pop) < self.size:\n",
    "                    new_pop.append(Individual(representation=offspring2, num_vehicles=sum(1 for route in offspring2.representation if route)))\n",
    "\n",
    "            self.individuals = new_pop\n",
    "            \n",
    "            #Updating the last improved generation information + storing the best and worst fitness\n",
    "            if self.optim == \"max\":\n",
    "                worst = min(new_pop, key=attrgetter('fitness'))\n",
    "                best = max(self, key=attrgetter(\"fitness\"))\n",
    "                current_fitness = best.fitness\n",
    "                if (current_fitness > best_fitness) or best_fitness == 0:\n",
    "                    best_fitness = current_fitness\n",
    "                    last_improvement = gen        \n",
    "            if self.optim == \"min\":\n",
    "                worst = max(new_pop, key=attrgetter('fitness'))\n",
    "                best = min(self, key=attrgetter(\"fitness\"))\n",
    "                current_fitness = best.fitness\n",
    "                if (current_fitness < best_fitness) or best_fitness is None:\n",
    "                    best_fitness = current_fitness\n",
    "                    last_improvement = gen\n",
    "                \n",
    "            #Removing the individual with the worst fitness if it's fitness is worse than the last elite individual\n",
    "            if elitism:\n",
    "                if self.optim == \"max\" and elite[-1].fitness > worst.fitness:\n",
    "                    new_pop.pop(new_pop.index(worst))\n",
    "                if self.optim == \"min\"and elite[-1].fitness < worst.fitness:\n",
    "                    new_pop.pop(new_pop.index(worst))\n",
    "\n",
    "\n",
    "            print(f\"Best individual of gen #{gen + 1}: {best}, with a fitness of: {current_fitness}\")\n",
    "\n",
    "            #Improvement check point\n",
    "            if best_fitness is None or (self.optim == \"max\" and current_fitness > best_fitness) or (self.optim == \"min\" and current_fitness < best_fitness):\n",
    "                best_fitness = current_fitness\n",
    "                last_improved = gen\n",
    "                \n",
    "            if gen - last_improvement >= plateau_tolerance:\n",
    "                xo_prob = xo_prob * xo_factor if xo_prob * xo_factor > 0 else 0\n",
    "                mut_prob = mut_prob * mut_factor if mut_prob * mut_factor > 0 else 0\n",
    "                last_improvement = gen + 1\n",
    "                print(f\"{gen - last_improvement} generations without improvement. New values: xo_prob={xo_prob}, mut_prob={mut_prob}\")\n",
    "\n",
    "        return [best_fitness, gen, last_improvement]\n",
    "            \n",
    "\n",
    "    def __len__(self):\n",
    "        return len(self.individuals)\n",
    "\n",
    "    def __getitem__(self, position):\n",
    "        return self.individuals[position]\n",
    "    \n",
    "    def __repr__(self):\n",
    "        return f\"Population(size={self.size}, individuals={self.individuals})\""
   ]
  },
  {
   "cell_type": "code",
   "execution_count": 7,
   "metadata": {},
   "outputs": [],
   "source": [
    "def get_fitness(self):\n",
    "    \"\"\"A simple objective function to calculate distances for the VRP problem, with a penalization for excessive use of vehicles.\n",
    "    Returns:\n",
    "        int: the total distance of the route\n",
    "    \"\"\"\n",
    "    fitness = 0\n",
    "    vehicles_used = sum(1 for route in self.representation if route)\n",
    "    # Loop over each vehicle's route\n",
    "    for route in self.representation:\n",
    "        if not route:  \n",
    "            continue\n",
    "        # Add the distance from the depot to the first location\n",
    "        fitness += vrp_data['distance_matrix'][vrp_data['depot']][route[0]]\n",
    "        # Add the distances between consecutive locations in the route\n",
    "        for i in range(len(route) - 1):\n",
    "            fitness += vrp_data['distance_matrix'][route[i]][route[i + 1]]\n",
    "        # Add the distance from the last location back to the depot\n",
    "        fitness += vrp_data['distance_matrix'][route[-1]][vrp_data['depot']]\n",
    "    \n",
    "    # Penalizing for use of more vehicles than necessary\n",
    "    penalty = 0\n",
    "    if vehicles_used > 1:\n",
    "        penalty = (vehicles_used-1) * 100\n",
    "    \n",
    "    return fitness + penalty"
   ]
  },
  {
   "cell_type": "code",
   "execution_count": 8,
   "metadata": {},
   "outputs": [],
   "source": [
    "Individual.get_fitness = get_fitness\n"
   ]
  },
  {
   "cell_type": "code",
   "execution_count": 9,
   "metadata": {},
   "outputs": [],
   "source": [
    "P = Population(size=20, optim=\"min\", sol_size=len(locations)-1,\n",
    "                 valid_set=[i for i in range(1, len(locations))], num_vehicles=vrp_data['num_vehicles'])"
   ]
  },
  {
   "cell_type": "code",
   "execution_count": 10,
   "metadata": {},
   "outputs": [],
   "source": [
    "def sigma_scaling_selection(population):\n",
    "    \"\"\"Sigma sclaing selection implementation. Reference: Mitchell, M. (1996). An introduction to genetic algorithms. https://doi.org/10.7551/mitpress/3927.001.0001 \n",
    "\n",
    "    Args:\n",
    "        population (Population): The population we want to select from.\n",
    "\n",
    "    Returns:\n",
    "        Individual: selected individual.\n",
    "    \"\"\"\n",
    "    fitnesses = [ind.fitness for ind in population.individuals]\n",
    "    mean = np.mean(fitnesses)\n",
    "    sigma = np.std(fitnesses)\n",
    "\n",
    "    #Under sigma scaling, an individual's expected value is a function of its fitness, the population mean, and the population standard deviation\n",
    "    if sigma == 0:\n",
    "        scaled_fitnesses = [1 for _ in fitnesses]\n",
    "    else:\n",
    "        scaled_fitnesses = [1 + (fitness - mean) / (2 * sigma) for fitness in fitnesses]\n",
    "\n",
    "    # Avoiding fitnesses of 0, so that individuals with very low fitness have some small chance of reproducing\n",
    "    scaled_fitnesses = [max(f, 0.1) for f in scaled_fitnesses]\n",
    "\n",
    "    total_scaled_fitness = sum(scaled_fitnesses)\n",
    "    r = np.random.uniform(0, total_scaled_fitness)\n",
    "    position = 0\n",
    "    # Select individual based on cumulative probability - it iterates through the population to find the individual whose cumulative probability exceeds the random value r\n",
    "    for individual, scaled_fitness in zip(population.individuals, scaled_fitnesses):\n",
    "        position += scaled_fitness\n",
    "        if position > r:\n",
    "            return individual\n",
    "        \n",
    "\n",
    "def rank_selection(population):\n",
    "    \"\"\"Rank selection implementation. \n",
    "\n",
    "    Args:\n",
    "        population (Population): The population we want to select from.\n",
    "\n",
    "    Returns:\n",
    "        Individual: selected individual.\n",
    "    \"\"\"\n",
    "    ranked_fitnesses = sorted([ind.fitness for ind in population.individuals])\n",
    "    n = population.size\n",
    "    #Using an arithmetic series to calculate the total rank\n",
    "    ranks = n * (n+1) / 2\n",
    "    \n",
    "    r = np.random.uniform(0, ranks)\n",
    "    position = 0\n",
    "    # Select individual based on cumulative probability - it iterates through the population to find the individual whose cumulative probability exceeds the random value r\n",
    "    for individual, rank in zip(population.individuals, ranked_fitnesses):\n",
    "        position += rank\n",
    "        if position > r:\n",
    "            return individual"
   ]
  },
  {
   "cell_type": "code",
   "execution_count": 11,
   "metadata": {},
   "outputs": [
    {
     "name": "stdout",
     "output_type": "stream",
     "text": [
      "[[13, 5, 12, 1, 3, 6], [9, 2, 14, 16], [7, 15, 4, 11, 10, 8], []]\n",
      "[[12, 4, 16], [13, 11, 5, 6, 7, 1], [15, 2, 10, 8], [3, 14, 9]]\n"
     ]
    }
   ],
   "source": [
    "p1, p2 = sigma_scaling_selection(P), sigma_scaling_selection(P)\n",
    "print(p1.representation)\n",
    "print(p2.representation)"
   ]
  },
  {
   "cell_type": "code",
   "execution_count": 15,
   "metadata": {},
   "outputs": [],
   "source": [
    "from random import randint, sample, uniform\n",
    "import numpy as np"
   ]
  },
  {
   "cell_type": "code",
   "execution_count": 56,
   "metadata": {},
   "outputs": [
    {
     "name": "stdout",
     "output_type": "stream",
     "text": [
      "2\n",
      "4\n",
      "[[2, 12, 10, 8, 15, 14, 16, 3, 4, 6, 11, 7, 1, 9, 5, 13], [], [], []]\n",
      "[[14], [15, 7, 12, 1], [2, 16, 11, 3, 13, 6, 10, 8], [5, 4, 9]]\n",
      "[[], [], [], []]\n",
      "[[2, 12, 10, 8, 15, 14, 16, 3, 4, 6, 11, 7, 1, 9, 5, 13], [], [], []]\n",
      "[[2, 12, 10, 8, 15, 14, 16, 3, 4, 6, 11, 7, 1, 9, 5, 13], [], [2, 16, 11, 3, 13, 6, 10, 8], [5, 4, 9]]\n",
      "[[2, 12, 10, 8, 15, 14, 16, 3, 4, 6, 11, 7, 1, 9, 5, 13], [], [2, 16, 11, 3, 13, 6, 10, 8], [5, 4, 9], [], []]\n"
     ]
    }
   ],
   "source": [
    "size = len(p1)\n",
    "cx1, cx2 = np.sort(np.random.choice(size + 1, 2, replace=False))\n",
    "print(cx1)\n",
    "print(cx2)\n",
    "\n",
    "missing1 = [gene for gene in p2 if gene not in p1[cx1:cx2]]\n",
    "missing2 = [gene for gene in p1 if gene not in p2[cx1:cx2]]\n",
    "print(missing1)\n",
    "print(missing2)\n",
    "\n",
    "offspring1, offspring2 = [[] for _ in range(size)], [[] for _ in range(size)]\n",
    "print(offspring1)\n",
    "\n",
    "offspring1[:cx1] = missing1[:cx1]\n",
    "offspring2[:cx1] = missing2[:cx1]\n",
    "print(offspring1)\n",
    "\n",
    "offspring1[cx1:cx2] = p1[cx1:cx2]\n",
    "offspring2[cx1:cx2] = p2[cx1:cx2]\n",
    "print(offspring1)\n",
    "\n",
    "offspring1[cx2:] = missing1[cx1:]\n",
    "offspring2[cx2:] = missing2[cx1:]\n",
    "print(offspring1)\n",
    "\n"
   ]
  },
  {
   "cell_type": "code",
   "execution_count": 58,
   "metadata": {},
   "outputs": [
    {
     "data": {
      "text/plain": [
       "[[14], [15, 7, 12, 1], [], [], [2, 16, 11, 3, 13, 6, 10, 8], [5, 4, 9]]"
      ]
     },
     "execution_count": 58,
     "metadata": {},
     "output_type": "execute_result"
    }
   ],
   "source": [
    "offspring2"
   ]
  },
  {
   "cell_type": "code",
   "execution_count": 46,
   "metadata": {},
   "outputs": [
    {
     "ename": "TypeError",
     "evalue": "only integer scalar arrays can be converted to a scalar index",
     "output_type": "error",
     "traceback": [
      "\u001b[1;31m---------------------------------------------------------------------------\u001b[0m",
      "\u001b[1;31mTypeError\u001b[0m                                 Traceback (most recent call last)",
      "Cell \u001b[1;32mIn[46], line 8\u001b[0m\n\u001b[0;32m      6\u001b[0m unselected_indices \u001b[38;5;241m=\u001b[39m np\u001b[38;5;241m.\u001b[39mwhere(\u001b[38;5;241m~\u001b[39mselected)[\u001b[38;5;241m0\u001b[39m]\n\u001b[0;32m      7\u001b[0m \u001b[38;5;28;01mfor\u001b[39;00m e \u001b[38;5;129;01min\u001b[39;00m selected_indices:\n\u001b[1;32m----> 8\u001b[0m     matching1 \u001b[38;5;241m=\u001b[39m np\u001b[38;5;241m.\u001b[39misin(p2, \u001b[43mp1\u001b[49m\u001b[43m[\u001b[49m\u001b[43mselected_indices\u001b[49m\u001b[43m]\u001b[49m)\n\u001b[0;32m      9\u001b[0m     matching2 \u001b[38;5;241m=\u001b[39m np\u001b[38;5;241m.\u001b[39misin(p1, p2[selected_indices])\n\u001b[0;32m     10\u001b[0m     \u001b[38;5;28mprint\u001b[39m(matching1)\n",
      "Cell \u001b[1;32mIn[4], line 46\u001b[0m, in \u001b[0;36mIndividual.__getitem__\u001b[1;34m(self, position)\u001b[0m\n\u001b[0;32m     45\u001b[0m \u001b[38;5;28;01mdef\u001b[39;00m \u001b[38;5;21m__getitem__\u001b[39m(\u001b[38;5;28mself\u001b[39m, position):\n\u001b[1;32m---> 46\u001b[0m     \u001b[38;5;28;01mreturn\u001b[39;00m \u001b[38;5;28;43mself\u001b[39;49m\u001b[38;5;241;43m.\u001b[39;49m\u001b[43mrepresentation\u001b[49m\u001b[43m[\u001b[49m\u001b[43mposition\u001b[49m\u001b[43m]\u001b[49m\n",
      "\u001b[1;31mTypeError\u001b[0m: only integer scalar arrays can be converted to a scalar index"
     ]
    }
   ],
   "source": [
    "size = len(p1)\n",
    "selected = np.random.choice([True, False], size)\n",
    "\n",
    "# Select elements based on 'selected'\n",
    "selected_indices = np.where(selected)[0]\n",
    "unselected_indices = np.where(~selected)[0]\n",
    "for e in selected_indices:\n",
    "    matching1 = np.isin(p2, p1[selected_indices])\n",
    "    matching2 = np.isin(p1, p2[selected_indices])\n",
    "    print(matching1)\n",
    "\n",
    "# Reverse the selection process\n",
    "for index in unselected_indices:\n",
    "    if p2[index] not in offspring1:\n",
    "        offspring1[index] = p2[index]\n",
    "    if p1[index] not in offspring2:\n",
    "        offspring2[index] = p1[index]\n",
    "\n",
    "\n",
    "sublist_lengths = [len(sublist) for sublist in p1.representation]\n",
    "offspring1, offspring2 = [[] *length for length in sublist_lengths], [[None] *length  for length in sublist_lengths]\n",
    "\n",
    "offspring1[matching1] = p1[selected]\n",
    "offspring2[matching2] = p2[selected]\n",
    "offspring1[~matching1] = p2[~matching1]\n",
    "offspring2[~matching2] = p1[~matching2]\n",
    "\n",
    "print(\"Offspring1:\", offspring1)\n",
    "print(\"Offspring2:\", offspring2)"
   ]
  },
  {
   "cell_type": "code",
   "execution_count": 21,
   "metadata": {},
   "outputs": [
    {
     "data": {
      "text/plain": [
       "[[0, 0, 0], [1, 2]]"
      ]
     },
     "execution_count": 21,
     "metadata": {},
     "output_type": "execute_result"
    }
   ],
   "source": [
    "a=[[0,0,0], [1,2],[2]]\n",
    "b=[True, True, False ]\n",
    "[a[i] for i in range(len(a)) if b[i]]"
   ]
  },
  {
   "cell_type": "code",
   "execution_count": 51,
   "metadata": {},
   "outputs": [
    {
     "name": "stdout",
     "output_type": "stream",
     "text": [
      "([[14], [2, 12, 10, 8, 15, 14, 16, 3, 4, 6, 11, 7, 1, 9, 5, 13], [], [], []], [[2, 12, 10, 8, 15, 14, 16, 3, 4, 6, 11, 7, 1, 9, 5, 13], [14], [15, 7, 12, 1], [2, 16, 11, 3, 13, 6, 10, 8], [5, 4, 9]])\n"
     ]
    },
    {
     "ename": "TypeError",
     "evalue": "only integer scalar arrays can be converted to a scalar index",
     "output_type": "error",
     "traceback": [
      "\u001b[1;31m---------------------------------------------------------------------------\u001b[0m",
      "\u001b[1;31mTypeError\u001b[0m                                 Traceback (most recent call last)",
      "Cell \u001b[1;32mIn[51], line 43\u001b[0m\n\u001b[0;32m     41\u001b[0m offspring_order \u001b[38;5;241m=\u001b[39m order_crossover(parent1, parent2)\n\u001b[0;32m     42\u001b[0m \u001b[38;5;28mprint\u001b[39m(offspring_order)\n\u001b[1;32m---> 43\u001b[0m offspring_order_based\u001b[38;5;241m=\u001b[39m \u001b[43morder_based_crossover\u001b[49m\u001b[43m(\u001b[49m\u001b[43mparent1\u001b[49m\u001b[43m,\u001b[49m\u001b[43m \u001b[49m\u001b[43mparent2\u001b[49m\u001b[43m)\u001b[49m\n\u001b[0;32m     45\u001b[0m \u001b[38;5;28mprint\u001b[39m(\u001b[38;5;124m\"\u001b[39m\u001b[38;5;124mOffspring using Order Crossover:\u001b[39m\u001b[38;5;124m\"\u001b[39m)\n\u001b[0;32m     46\u001b[0m \u001b[38;5;28;01mfor\u001b[39;00m offspring \u001b[38;5;129;01min\u001b[39;00m offspring_order:\n",
      "Cell \u001b[1;32mIn[51], line 25\u001b[0m, in \u001b[0;36morder_based_crossover\u001b[1;34m(p1, p2)\u001b[0m\n\u001b[0;32m     22\u001b[0m size \u001b[38;5;241m=\u001b[39m \u001b[38;5;28mlen\u001b[39m(p1)\n\u001b[0;32m     23\u001b[0m selected \u001b[38;5;241m=\u001b[39m np\u001b[38;5;241m.\u001b[39mrandom\u001b[38;5;241m.\u001b[39mchoice([\u001b[38;5;28;01mTrue\u001b[39;00m, \u001b[38;5;28;01mFalse\u001b[39;00m], size)\n\u001b[1;32m---> 25\u001b[0m matching1 \u001b[38;5;241m=\u001b[39m [gene \u001b[38;5;129;01min\u001b[39;00m p1[selected] \u001b[38;5;28;01mfor\u001b[39;00m gene \u001b[38;5;129;01min\u001b[39;00m p2]\n\u001b[0;32m     26\u001b[0m matching2 \u001b[38;5;241m=\u001b[39m [gene \u001b[38;5;129;01min\u001b[39;00m p2[selected] \u001b[38;5;28;01mfor\u001b[39;00m gene \u001b[38;5;129;01min\u001b[39;00m p1]\n\u001b[0;32m     28\u001b[0m offspring1, offspring2 \u001b[38;5;241m=\u001b[39m [[] \u001b[38;5;28;01mfor\u001b[39;00m _ \u001b[38;5;129;01min\u001b[39;00m \u001b[38;5;28mrange\u001b[39m(size)], [[] \u001b[38;5;28;01mfor\u001b[39;00m _ \u001b[38;5;129;01min\u001b[39;00m \u001b[38;5;28mrange\u001b[39m(size)]\n",
      "Cell \u001b[1;32mIn[51], line 25\u001b[0m, in \u001b[0;36m<listcomp>\u001b[1;34m(.0)\u001b[0m\n\u001b[0;32m     22\u001b[0m size \u001b[38;5;241m=\u001b[39m \u001b[38;5;28mlen\u001b[39m(p1)\n\u001b[0;32m     23\u001b[0m selected \u001b[38;5;241m=\u001b[39m np\u001b[38;5;241m.\u001b[39mrandom\u001b[38;5;241m.\u001b[39mchoice([\u001b[38;5;28;01mTrue\u001b[39;00m, \u001b[38;5;28;01mFalse\u001b[39;00m], size)\n\u001b[1;32m---> 25\u001b[0m matching1 \u001b[38;5;241m=\u001b[39m [gene \u001b[38;5;129;01min\u001b[39;00m \u001b[43mp1\u001b[49m\u001b[43m[\u001b[49m\u001b[43mselected\u001b[49m\u001b[43m]\u001b[49m \u001b[38;5;28;01mfor\u001b[39;00m gene \u001b[38;5;129;01min\u001b[39;00m p2]\n\u001b[0;32m     26\u001b[0m matching2 \u001b[38;5;241m=\u001b[39m [gene \u001b[38;5;129;01min\u001b[39;00m p2[selected] \u001b[38;5;28;01mfor\u001b[39;00m gene \u001b[38;5;129;01min\u001b[39;00m p1]\n\u001b[0;32m     28\u001b[0m offspring1, offspring2 \u001b[38;5;241m=\u001b[39m [[] \u001b[38;5;28;01mfor\u001b[39;00m _ \u001b[38;5;129;01min\u001b[39;00m \u001b[38;5;28mrange\u001b[39m(size)], [[] \u001b[38;5;28;01mfor\u001b[39;00m _ \u001b[38;5;129;01min\u001b[39;00m \u001b[38;5;28mrange\u001b[39m(size)]\n",
      "\u001b[1;31mTypeError\u001b[0m: only integer scalar arrays can be converted to a scalar index"
     ]
    }
   ],
   "source": [
    "import numpy as np\n",
    "\n",
    "def order_crossover(p1, p2):\n",
    "    size = len(p1)\n",
    "    cx1, cx2 = np.sort(np.random.choice(size + 1, 2, replace=False))\n",
    "\n",
    "    missing1 = [gene for gene in p2 if gene not in p1[cx1:cx2]]\n",
    "    missing2 = [gene for gene in p1 if gene not in p2[cx1:cx2]]\n",
    "\n",
    "    offspring1, offspring2 = [[] for _ in range(size)], [[] for _ in range(size)]\n",
    "\n",
    "    offspring1[:cx1] = missing1[:cx1]\n",
    "    offspring2[:cx1] = missing2[:cx1]\n",
    "    offspring1[cx1:cx2] = p1[cx1:cx2]\n",
    "    offspring2[cx1:cx2] = p2[cx1:cx2]\n",
    "    offspring1[cx2:] = missing1[cx1:]\n",
    "    offspring2[cx2:] = missing2[cx1:]\n",
    "\n",
    "    return offspring1, offspring2\n",
    "\n",
    "def order_based_crossover(p1, p2):\n",
    "    size = len(p1)\n",
    "    selected = np.random.choice([True, False], size)\n",
    "\n",
    "    matching1 = [gene in p1[selected] for gene in p2]\n",
    "    matching2 = [gene in p2[selected] for gene in p1]\n",
    "\n",
    "    offspring1, offspring2 = [[] for _ in range(size)], [[] for _ in range(size)]\n",
    "\n",
    "    offspring1[matching1] = [gene for gene in p1[selected]]\n",
    "    offspring2[matching2] = [gene for gene in p2[selected]]\n",
    "    offspring1[~matching1] = [gene for gene in p2 if gene not in p1[selected]]\n",
    "    offspring2[~matching2] = [gene for gene in p1 if gene not in p2[selected]]\n",
    "\n",
    "    return offspring1, offspring2\n",
    "\n",
    "# Test the functions with the provided parent sequences\n",
    "p1 = [[14], [15, 7, 12, 1], [2, 16, 11, 3, 13, 6, 10, 8], [5, 4, 9]]\n",
    "p2 = [[2, 12, 10, 8, 15, 14, 16, 3, 4, 6, 11, 7, 1, 9, 5, 13], [], [], []]\n",
    "\n",
    "offspring_order = order_crossover(p1, p2)\n",
    "print(offspring_order)\n",
    "offspring_order_based= order_based_crossover(p1, p2)\n",
    "\n",
    "print(\"Offspring using Order Crossover:\")\n",
    "for offspring in offspring_order:\n",
    "    print(offspring)\n",
    "\n",
    "print(\"\\nOffspring using Order Based Crossover:\")\n",
    "for offspring in offspring_order_based:\n",
    "    print(offspring)\n",
    "\n",
    "\n",
    "def position_based_crossover(p1, p2):\n",
    "    size = len(p1)\n",
    "    selected = np.random.choice([True, False], size)\n",
    "\n",
    "    sublist_lengths = [len(sublist) for sublist in p1.representation]\n",
    "\n",
    "    offspring1, offspring2 = [[] *length for length in sublist_lengths], [[None] *length  for length in sublist_lengths]\n",
    "\n",
    "    # Select elements based on 'selected'\n",
    "    selected_indices = np.where(selected)[0]\n",
    "    unselected_indices = np.where(~selected)[0]\n",
    "    for e in selected_indices:\n",
    "        offspring1[e] = p1[e]\n",
    "        offspring2[e] = p2[e]\n",
    "\n",
    "    # Reverse the selection process\n",
    "    for index in unselected_indices:\n",
    "        if p2[index] not in offspring1:\n",
    "            offspring1[index] = p2[index]\n",
    "        if p1[index] not in offspring2:\n",
    "            offspring2[index] = p1[index]\n",
    "\n",
    "    return offspring1, offspring2"
   ]
  },
  {
   "cell_type": "code",
   "execution_count": 59,
   "metadata": {},
   "outputs": [],
   "source": [
    "def order_crossover(p1, p2):\n",
    "    size = len(p1)\n",
    "    cx1, cx2 = np.sort(np.random.choice(size + 1, 2, replace=False))\n",
    "\n",
    "    missing1 = [gene for gene in p2 if gene not in p1[cx1:cx2]]\n",
    "    missing2 = [gene for gene in p1 if gene not in p2[cx1:cx2]]\n",
    "\n",
    "    offspring1, offspring2 = [[] for _ in range(size)], [[] for _ in range(size)]\n",
    "\n",
    "    offspring1[:cx1] = missing1[:cx1]\n",
    "    offspring2[:cx1] = missing2[:cx1]\n",
    "    offspring1[cx1:cx2] = p1[cx1:cx2]\n",
    "    offspring2[cx1:cx2] = p2[cx1:cx2]\n",
    "    offspring1[cx2:] = missing1[cx1:]\n",
    "    offspring2[cx2:] = missing2[cx1:]\n",
    "\n",
    "    return offspring1, offspring2\n",
    "\n",
    "\n",
    "def order_based_crossover(p1, p2):\n",
    "    size = len(p1)\n",
    "    selected = np.random.choice([True, False], size)\n",
    "\n",
    "    matching1 = np.isin(p2, p1[selected])\n",
    "    matching2 = np.isin(p1, p2[selected])\n",
    "\n",
    "    offspring1, offspring2 = np.empty(size, dtype=int), np.empty(size, dtype=int)\n",
    "\n",
    "    offspring1[matching1] = p1[selected]\n",
    "    offspring2[matching2] = p2[selected]\n",
    "    offspring1[~matching1] = p2[~matching1]\n",
    "    offspring2[~matching2] = p1[~matching2]\n",
    "\n",
    "    return offspring1, offspring2\n",
    "\n",
    "def cycle_crossover(p1, p2):\n",
    "    size = len(p1)\n",
    "    offspring1, offspring2 = np.empty(size, dtype=int), np.empty(size, dtype=int)\n",
    "    visited = np.zeros(size, dtype=bool)\n",
    "    source1, source2 = p1, p2\n",
    "\n",
    "    for start in range(size):\n",
    "        if visited[start]:\n",
    "            continue\n",
    "        visited[start] = True\n",
    "        cycle = [start]\n",
    "\n",
    "        while p2[cycle[-1]] != p1[start]:\n",
    "            next_index = np.where(p1 == p2[cycle[-1]])[0][0]\n",
    "            cycle.append(next_index)\n",
    "            visited[next_index] = True\n",
    "\n",
    "        cycle = np.array(cycle)\n",
    "        offspring1[cycle] = source1[cycle]\n",
    "        offspring2[cycle] = source2[cycle]\n",
    "\n",
    "        source1, source2 = source2, source1\n",
    "\n",
    "    return offspring1, offspring2\n",
    "\n",
    "def partially_mapped_crossover(p1, p2):\n",
    "    size = len(p1)\n",
    "    cx1, cx2 = np.sort(np.random.choice(size + 1, 2, replace=False))\n",
    "\n",
    "    def one_offspring(p1, p2):\n",
    "        offspring = np.empty(size, dtype=int)\n",
    "        offspring[cx1:cx2] = p1[cx1:cx2]\n",
    "\n",
    "        for i in np.concatenate([np.arange(0, cx1), np.arange(cx2, size)]):\n",
    "            candidate = p2[i]\n",
    "            while candidate in p1[cx1:cx2]:\n",
    "                candidate = p2[np.where(p1 == candidate)[0][0]]\n",
    "            offspring[i] = candidate\n",
    "        return offspring\n",
    "\n",
    "    return one_offspring(p1, p2), one_offspring(p2, p1)\n",
    "\n",
    "def edge_recombination_crossover(p1, p2):\n",
    "    size = len(p1)\n",
    "    edges = {}\n",
    "\n",
    "    for i, v in enumerate(p1):\n",
    "        j = np.where(p2 == v)[0][0]\n",
    "        edges[v] = [p1[(i - 1) % size], p1[(i + 1) % size],\n",
    "                    p2[(j - 1) % size], p2[(j + 1) % size]]\n",
    "\n",
    "    def one_offspring(parent):\n",
    "        offspring = np.empty(size, dtype=int)\n",
    "        missing = list(parent[1:])\n",
    "        offspring[0] = parent[0]\n",
    "        node = parent[0]\n",
    "\n",
    "        for index in range(1, size):\n",
    "            nodes = np.array(edges[node])\n",
    "            nodes = nodes[np.in1d(nodes, missing)]\n",
    "            next_node = np.random.choice(nodes) if nodes.size else np.random.choice(missing)\n",
    "            offspring[index] = next_node\n",
    "            node = next_node\n",
    "            missing.remove(next_node)\n",
    "\n",
    "        return offspring\n",
    "\n",
    "    return one_offspring(p1), one_offspring(p2)"
   ]
  },
  {
   "cell_type": "code",
   "execution_count": 68,
   "metadata": {},
   "outputs": [
    {
     "name": "stdout",
     "output_type": "stream",
     "text": [
      "[[14], [15, 7, 12, 1], [2, 16, 11, 3, 13, 6, 10, 8], [5, 4, 9]]\n",
      "[[2, 12, 10, 8, 15, 14, 16, 3, 4, 6, 11, 7, 1, 9, 5, 13], [], [], []]\n"
     ]
    }
   ],
   "source": [
    "print(p1.representation)\n",
    "print(p2.representation)"
   ]
  },
  {
   "cell_type": "code",
   "execution_count": 87,
   "metadata": {},
   "outputs": [
    {
     "data": {
      "text/plain": [
       "([[2, 12, 10, 8, 15, 14, 16, 3, 4, 6, 11, 7, 1, 9, 5, 13],\n",
       "  [15, 7, 12, 1],\n",
       "  [2, 16, 11, 3, 13, 6, 10, 8],\n",
       "  [5, 4, 9],\n",
       "  [],\n",
       "  [],\n",
       "  []],\n",
       " [[14], [], [], [], [15, 7, 12, 1], [2, 16, 11, 3, 13, 6, 10, 8], [5, 4, 9]])"
      ]
     },
     "execution_count": 87,
     "metadata": {},
     "output_type": "execute_result"
    }
   ],
   "source": [
    "order_crossover(p1, p2)"
   ]
  },
  {
   "cell_type": "code",
   "execution_count": 86,
   "metadata": {},
   "outputs": [
    {
     "name": "stdout",
     "output_type": "stream",
     "text": [
      "[2, 12, 10, 8, 15, 14, 16, 3, 4, 6, 11, 7, 1, 9, 5, 13] [14]\n",
      "False\n",
      "(array([], dtype=int64),)\n"
     ]
    },
    {
     "ename": "IndexError",
     "evalue": "index 0 is out of bounds for axis 0 with size 0",
     "output_type": "error",
     "traceback": [
      "\u001b[1;31m---------------------------------------------------------------------------\u001b[0m",
      "\u001b[1;31mIndexError\u001b[0m                                Traceback (most recent call last)",
      "Cell \u001b[1;32mIn[86], line 16\u001b[0m\n\u001b[0;32m     14\u001b[0m \u001b[38;5;28mprint\u001b[39m(p1 \u001b[38;5;241m==\u001b[39m p2[cycle[\u001b[38;5;241m-\u001b[39m\u001b[38;5;241m1\u001b[39m]])\n\u001b[0;32m     15\u001b[0m \u001b[38;5;28mprint\u001b[39m(np\u001b[38;5;241m.\u001b[39mwhere(p1 \u001b[38;5;241m==\u001b[39m p2[cycle[\u001b[38;5;241m-\u001b[39m\u001b[38;5;241m1\u001b[39m]]))\n\u001b[1;32m---> 16\u001b[0m next_index \u001b[38;5;241m=\u001b[39m \u001b[43mnp\u001b[49m\u001b[38;5;241;43m.\u001b[39;49m\u001b[43mwhere\u001b[49m\u001b[43m(\u001b[49m\u001b[43mp1\u001b[49m\u001b[43m \u001b[49m\u001b[38;5;241;43m==\u001b[39;49m\u001b[43m \u001b[49m\u001b[43mp2\u001b[49m\u001b[43m[\u001b[49m\u001b[43mcycle\u001b[49m\u001b[43m[\u001b[49m\u001b[38;5;241;43m-\u001b[39;49m\u001b[38;5;241;43m1\u001b[39;49m\u001b[43m]\u001b[49m\u001b[43m]\u001b[49m\u001b[43m)\u001b[49m\u001b[43m[\u001b[49m\u001b[38;5;241;43m0\u001b[39;49m\u001b[43m]\u001b[49m\u001b[43m[\u001b[49m\u001b[38;5;241;43m0\u001b[39;49m\u001b[43m]\u001b[49m\n\u001b[0;32m     17\u001b[0m \u001b[38;5;28mprint\u001b[39m(next_index)\n\u001b[0;32m     18\u001b[0m cycle\u001b[38;5;241m.\u001b[39mappend(next_index)\n",
      "\u001b[1;31mIndexError\u001b[0m: index 0 is out of bounds for axis 0 with size 0"
     ]
    }
   ],
   "source": [
    "size = len(p1)\n",
    "offspring1, offspring2 = np.empty(size, dtype=int), np.empty(size, dtype=int)\n",
    "visited = np.zeros(size, dtype=bool)\n",
    "source1, source2 = p1, p2\n",
    "\n",
    "for start in range(size):\n",
    "    if visited[start]:\n",
    "        continue\n",
    "    visited[start] = True\n",
    "    cycle = [start]\n",
    "    print(p2[cycle[-1]], p1[start])\n",
    "\n",
    "    while p2[cycle[-1]] != p1[start]:\n",
    "        print(p1 == p2[cycle[-1]])\n",
    "        print(np.where(p1 == p2[cycle[-1]]))\n",
    "        next_index = np.where(p1 == p2[cycle[-1]])[0][0]\n",
    "        print(next_index)\n",
    "        cycle.append(next_index)\n",
    "        visited[next_index] = True\n",
    "\n",
    "    cycle = np.array(cycle)\n",
    "    offspring1[cycle] = source1[cycle]\n",
    "    offspring2[cycle] = source2[cycle]\n",
    "\n",
    "    source1, source2 = source2, source1\n",
    "\n"
   ]
  },
  {
   "cell_type": "code",
   "execution_count": 88,
   "metadata": {},
   "outputs": [
    {
     "data": {
      "text/plain": [
       "([[14], [15, 7, 12, 1], [], [5, 4, 9]],\n",
       " [[2, 12, 10, 8, 15, 14, 16, 3, 4, 6, 11, 7, 1, 9, 5, 13],\n",
       "  [],\n",
       "  [2, 16, 11, 3, 13, 6, 10, 8],\n",
       "  []])"
      ]
     },
     "execution_count": 88,
     "metadata": {},
     "output_type": "execute_result"
    }
   ],
   "source": [
    "geometric_xo(p1,p2)"
   ]
  },
  {
   "cell_type": "code",
   "execution_count": 89,
   "metadata": {},
   "outputs": [],
   "source": [
    "def single_point_xo(parent1, parent2):\n",
    "    \"\"\"Implementation of single point crossover.\n",
    "\n",
    "    Args:\n",
    "        parent1 (Individual): First parent for crossover.\n",
    "        parent2 (Individual): Second parent for crossover.\n",
    "\n",
    "    Returns:\n",
    "        Individuals: Two offspring, resulting from the crossover.\n",
    "    \"\"\"\n",
    "    xo_point = randint(1, len(parent1)-1)\n",
    "    offspring1 = parent1[:xo_point] + parent2[xo_point:]\n",
    "    offspring2 = parent2[:xo_point] + parent1[xo_point:]\n",
    "    return offspring1, offspring2\n",
    "\n",
    "\n",
    "def cycle_xo(p1, p2):\n",
    "    \"\"\"Implementation of cycle crossover.\n",
    "\n",
    "    Args:\n",
    "        p1 (Individual): First parent for crossover.\n",
    "        p2 (Individual): Second parent for crossover.\n",
    "\n",
    "    Returns:\n",
    "        Individuals: Two offspring, resulting from the crossover.\n",
    "    \"\"\"\n",
    "    # offspring placeholders\n",
    "    sublist_lengths = [len(sublist) for sublist in p1.representation]\n",
    "\n",
    "    offspring1 = [[None] * length for length in sublist_lengths]\n",
    "    offspring2 = [[None] * length for length in sublist_lengths]\n",
    "    while None in offspring1:\n",
    "        index = offspring1.index(None)\n",
    "        val1 = p1[index]\n",
    "        val2 = p2[index]\n",
    "\n",
    "        # copy the cycle elements\n",
    "        while val1 != val2:\n",
    "            offspring1[index] = p1[index]\n",
    "            offspring2[index] = p2[index]\n",
    "            val2 = p2[index]\n",
    "            index = p1.index(val2)\n",
    "\n",
    "        # copy the rest\n",
    "        for element in offspring1:\n",
    "            if element is None:\n",
    "                index = offspring1.index(None)\n",
    "                if offspring1[index] is None:\n",
    "                    offspring1[index] = p2[index]\n",
    "                    offspring2[index] = p1[index]\n",
    "\n",
    "    return offspring1, offspring2\n",
    "\n",
    "\n",
    "def pmx(p1, p2):\n",
    "    \"\"\"Implementation of partially matched/mapped crossover.\n",
    "\n",
    "    Args:\n",
    "        p1 (Individual): First parent for crossover.\n",
    "        p2 (Individual): Second parent for crossover.\n",
    "\n",
    "    Returns:\n",
    "        Individuals: Two offspring, resulting from the crossover.\n",
    "    \"\"\"\n",
    "    xo_points = sample(range(len(p1)), 2)\n",
    "    #xo_points = [3,6]\n",
    "    xo_points.sort()\n",
    "\n",
    "    def pmx_offspring(x,y):\n",
    "        o = [None] * len(x)\n",
    "        # offspring2\n",
    "        o[xo_points[0]:xo_points[1]]  = x[xo_points[0]:xo_points[1]]\n",
    "        z = set(y[xo_points[0]:xo_points[1]]) - set(x[xo_points[0]:xo_points[1]])\n",
    "\n",
    "        # numbers that exist in the segment\n",
    "        for i in z:\n",
    "            temp = i\n",
    "            index = y.index(x[y.index(temp)])\n",
    "            while o[index] is not None:\n",
    "                temp = index\n",
    "                index = y.index(x[temp])\n",
    "            o[index] = i\n",
    "\n",
    "        # numbers that doesn't exist in the segment\n",
    "        while None in o:\n",
    "            index = o.index(None)\n",
    "            o[index] = y[index]\n",
    "        return o\n",
    "\n",
    "    o1, o2 = pmx_offspring(p1, p2), pmx_offspring(p2, p1)\n",
    "    return o1, o2\n",
    "\n",
    "\n",
    "def geo_xo(p1,p2):\n",
    "    \"\"\"Implementation of arithmetic crossover/geometric crossover.\n",
    "\n",
    "    Args:\n",
    "        p1 (Individual): First parent for crossover.\n",
    "        p2 (Individual): Second parent for crossover.\n",
    "\n",
    "    Returns:\n",
    "        Individual: Offspring, resulting from the crossover.\n",
    "    \"\"\"\n",
    "    o = [None] * len(p1)\n",
    "    for i in range(len(p1)):\n",
    "        r = uniform(0,1)\n",
    "        o[i] = p1[i] * r + (1-r) * p2[i]\n",
    "    return o"
   ]
  },
  {
   "cell_type": "code",
   "execution_count": 149,
   "metadata": {},
   "outputs": [],
   "source": [
    "def binary_mutation(individual):\n",
    "    \"\"\"Binary mutation for a GA individual\n",
    "\n",
    "    Args:\n",
    "        individual (Individual): A GA individual from charles.py\n",
    "\n",
    "    Raises:\n",
    "        Exception: When individual is not binary encoded.py\n",
    "\n",
    "    Returns:\n",
    "        Individual: Mutated Individual\n",
    "    \"\"\"\n",
    "    mut_index = randint(0, len(individual)-1)\n",
    "    if individual[mut_index] == 1:\n",
    "        individual[mut_index] = 0\n",
    "    elif individual[mut_index] == 0:\n",
    "        individual[mut_index] = 1\n",
    "    else:\n",
    "        raise Exception(\"Representation is not binary!\")\n",
    "\n",
    "    return individual\n",
    "\n",
    "\n",
    "def swap_mutation(individual):\n",
    "    \"\"\"Swap mutation for a GA individual. Swaps the bits.\n",
    "\n",
    "    Args:\n",
    "        individual (Individual): A GA individual from charles.py\n",
    "\n",
    "    Returns:\n",
    "        Individual: Mutated Individual\n",
    "    \"\"\"\n",
    "    mut_indexes = sample(range(0, len(individual)), 2)\n",
    "    individual[mut_indexes[0]], individual[mut_indexes[1]] = individual[mut_indexes[1]], individual[mut_indexes[0]]\n",
    "    return individual\n",
    "\n",
    "\n",
    "def inversion_mutation(individual):\n",
    "    \"\"\"Inversion mutation for a GA individual. Reverts a portion of the representation.\n",
    "\n",
    "    Args:\n",
    "        individual (Individual): A GA individual from charles.py\n",
    "\n",
    "    Returns:\n",
    "        Individual: Mutated Individual\n",
    "    \"\"\"\n",
    "    mut_indexes = sample(range(0, len(individual)), 2)\n",
    "    mut_indexes.sort()\n",
    "    individual[mut_indexes[0]:mut_indexes[1]] = individual[mut_indexes[0]:mut_indexes[1]][::-1]\n",
    "    return individual\n",
    "\n",
    "# Mutation functions\n",
    "def shuffle_mutation(individual):\n",
    "    size = len(p1)\n",
    "    indices = np.random.choice([True, False], size)\n",
    "    indices = np.where(indices)[0]\n",
    "    subset = [p1[i] for i in indices]\n",
    "    np.random.shuffle(subset)\n",
    "    for i, e in enumerate(indices):\n",
    "        p1[e] = subset[i]\n",
    "\n",
    "\n",
    "def add_subtract_mutation(individual):\n",
    "    idx1 = np.random.choice(np.nonzero(individual)[0])\n",
    "    idx2 = idx1\n",
    "    while idx2 == idx1:\n",
    "        idx2 = np.random.randint(len(individual))\n",
    "\n",
    "    individual[idx1] -= 1\n",
    "    individual[idx2] += 1\n",
    "\n",
    "def swap_mutation(individual, mutation_rate=0.1):\n",
    "    if np.random.rand() < mutation_rate:\n",
    "        idx1, idx2 = np.random.choice(len(individual), 2, replace=False)\n",
    "        individual[idx1], individual[idx2] = individual[idx2], individual[idx1]\n",
    "\n",
    "def inversion_mutation(individual, mutation_rate=0.1):\n",
    "    if np.random.rand() < mutation_rate:\n",
    "        idx1, idx2 = np.sort(np.random.choice(len(individual), 2, replace=False))\n",
    "        individual[idx1:idx2+1] = individual[idx1:idx2+1][::-1]\n",
    "\n",
    "def inversion_mutation(individual, mutation_rate=0.1):\n",
    "    if np.random.rand() < mutation_rate:\n",
    "        idx1, idx2 = np.sort(np.random.choice(len(individual), 2, replace=False))\n",
    "        individual[idx1:idx2+1] = individual[idx1:idx2+1][::-1]"
   ]
  },
  {
   "cell_type": "code",
   "execution_count": 96,
   "metadata": {},
   "outputs": [
    {
     "name": "stdout",
     "output_type": "stream",
     "text": [
      "[[14], [15, 7, 12, 1], [2, 16, 11, 3, 13, 6, 10, 8], [5, 4, 9]]\n"
     ]
    }
   ],
   "source": [
    "print(p1.representation)"
   ]
  },
  {
   "cell_type": "code",
   "execution_count": 151,
   "metadata": {},
   "outputs": [],
   "source": [
    "\n",
    "def geometric_xo(p1, p2):\n",
    "    size = len(p1)\n",
    "    child1, child2 = [-1]*size, [-1]*size\n",
    "\n",
    "    for i in range(size):\n",
    "        if np.random.rand() > 0.5:\n",
    "            child1[i], child2[i] = p1[i], p2[i]\n",
    "        else:\n",
    "            child1[i], child2[i] = p2[i], p1[i]\n",
    "\n",
    "    return child1, child2"
   ]
  },
  {
   "cell_type": "code",
   "execution_count": 159,
   "metadata": {},
   "outputs": [],
   "source": [
    "offspring1, offspring2 = position_based_crossover(p1,p2)"
   ]
  },
  {
   "cell_type": "code",
   "execution_count": 161,
   "metadata": {},
   "outputs": [
    {
     "data": {
      "text/plain": [
       "[[5, 4, 9], [], [], []]"
      ]
     },
     "execution_count": 161,
     "metadata": {},
     "output_type": "execute_result"
    }
   ],
   "source": [
    "offspring2"
   ]
  },
  {
   "cell_type": "code",
   "execution_count": 157,
   "metadata": {},
   "outputs": [
    {
     "data": {
      "text/plain": [
       "2"
      ]
     },
     "execution_count": 157,
     "metadata": {},
     "output_type": "execute_result"
    }
   ],
   "source": [
    "sum(1 for route in a[0] if route)"
   ]
  },
  {
   "cell_type": "code",
   "execution_count": 118,
   "metadata": {},
   "outputs": [
    {
     "name": "stdout",
     "output_type": "stream",
     "text": [
      "[[14], [2, 16, 11, 3, 13, 6, 10, 8], [15, 7, 12, 1], [5, 4, 9]]\n"
     ]
    }
   ],
   "source": [
    "print(p1.representation)"
   ]
  },
  {
   "cell_type": "code",
   "execution_count": null,
   "metadata": {},
   "outputs": [],
   "source": [
    "size = len(p1)\n",
    "indices = np.random.choice([True, False], size)\n",
    "indices = np.where(indices)[0]\n",
    "subset = [p1[i] for i in indices]\n",
    "np.random.shuffle(subset)\n",
    "p1[indices] = subset\n",
    "\n",
    "\n",
    "\n",
    "\n",
    "# Select elements based on 'selected'\n",
    "selected_indices = np.where(selected)[0]\n",
    "unselected_indices = np.where(~selected)[0]\n",
    "for e in selected_indices:\n",
    "    offspring1[e] = p1[e]\n",
    "    offspring2[e] = p2[e]\n",
    "\n",
    "# Reverse the selection process\n",
    "for index in unselected_indices:\n",
    "    if p2[index] not in offspring1:\n",
    "        offspring1[index] = p2[index]\n",
    "    if p1[index] not in offspring2:"
   ]
  },
  {
   "cell_type": "code",
   "execution_count": 125,
   "metadata": {},
   "outputs": [
    {
     "ename": "TypeError",
     "evalue": "only integer scalar arrays can be converted to a scalar index",
     "output_type": "error",
     "traceback": [
      "\u001b[1;31m---------------------------------------------------------------------------\u001b[0m",
      "\u001b[1;31mTypeError\u001b[0m                                 Traceback (most recent call last)",
      "Cell \u001b[1;32mIn[125], line 3\u001b[0m\n\u001b[0;32m      1\u001b[0m indices \u001b[38;5;241m=\u001b[39m np\u001b[38;5;241m.\u001b[39mrandom\u001b[38;5;241m.\u001b[39mchoice([\u001b[38;5;28;01mTrue\u001b[39;00m, \u001b[38;5;28;01mFalse\u001b[39;00m], size)\n\u001b[1;32m----> 3\u001b[0m \u001b[43mp1\u001b[49m\u001b[43m[\u001b[49m\u001b[43mnp\u001b[49m\u001b[38;5;241;43m.\u001b[39;49m\u001b[43mwhere\u001b[49m\u001b[43m(\u001b[49m\u001b[43mindices\u001b[49m\u001b[43m)\u001b[49m\u001b[43m[\u001b[49m\u001b[38;5;241;43m0\u001b[39;49m\u001b[43m]\u001b[49m\u001b[43m]\u001b[49m\n",
      "Cell \u001b[1;32mIn[4], line 46\u001b[0m, in \u001b[0;36mIndividual.__getitem__\u001b[1;34m(self, position)\u001b[0m\n\u001b[0;32m     45\u001b[0m \u001b[38;5;28;01mdef\u001b[39;00m \u001b[38;5;21m__getitem__\u001b[39m(\u001b[38;5;28mself\u001b[39m, position):\n\u001b[1;32m---> 46\u001b[0m     \u001b[38;5;28;01mreturn\u001b[39;00m \u001b[38;5;28;43mself\u001b[39;49m\u001b[38;5;241;43m.\u001b[39;49m\u001b[43mrepresentation\u001b[49m\u001b[43m[\u001b[49m\u001b[43mposition\u001b[49m\u001b[43m]\u001b[49m\n",
      "\u001b[1;31mTypeError\u001b[0m: only integer scalar arrays can be converted to a scalar index"
     ]
    }
   ],
   "source": [
    "indices = np.random.choice([True, False], size)\n",
    "print(np.random.shuffle(subset))\n",
    "for e in np.where(indices)[0]:\n",
    "    p1[e]"
   ]
  },
  {
   "cell_type": "code",
   "execution_count": 132,
   "metadata": {},
   "outputs": [
    {
     "data": {
      "text/plain": [
       "array([0], dtype=int64)"
      ]
     },
     "execution_count": 132,
     "metadata": {},
     "output_type": "execute_result"
    }
   ],
   "source": []
  },
  {
   "cell_type": "code",
   "execution_count": 133,
   "metadata": {},
   "outputs": [
    {
     "data": {
      "text/plain": [
       "array([0, 3], dtype=int64)"
      ]
     },
     "execution_count": 133,
     "metadata": {},
     "output_type": "execute_result"
    }
   ],
   "source": [
    "indices = np.random.choice([True, False], size)\n",
    "np.where(indices)[0]"
   ]
  },
  {
   "cell_type": "code",
   "execution_count": 134,
   "metadata": {},
   "outputs": [],
   "source": [
    "flattened_p1 = [item for sublist in p1 for item in sublist]\n",
    "\n",
    "# Extract elements at specified indices\n",
    "selected_elements = [flattened_p1[i] for i in np.where(indices)[0]]"
   ]
  },
  {
   "cell_type": "code",
   "execution_count": 138,
   "metadata": {},
   "outputs": [
    {
     "data": {
      "text/plain": [
       "array([0, 3], dtype=int64)"
      ]
     },
     "execution_count": 138,
     "metadata": {},
     "output_type": "execute_result"
    }
   ],
   "source": [
    "np.where(indices)[0]"
   ]
  },
  {
   "cell_type": "code",
   "execution_count": 148,
   "metadata": {},
   "outputs": [
    {
     "name": "stdout",
     "output_type": "stream",
     "text": [
      "[[5, 4, 9], [15, 7, 12, 1], [2, 16, 11, 3, 13, 6, 10, 8], [14]]\n",
      "[0 1 3]\n",
      "[[5, 4, 9], [15, 7, 12, 1], [14]]\n",
      "0 [5, 4, 9]\n",
      "0 [5, 4, 9]\n",
      "1 [15, 7, 12, 1]\n",
      "1 [14]\n",
      "3 [14]\n",
      "2 [15, 7, 12, 1]\n",
      "[[5, 4, 9], [14], [2, 16, 11, 3, 13, 6, 10, 8], [15, 7, 12, 1]]\n"
     ]
    }
   ],
   "source": [
    "size = len(p1)\n",
    "indices = np.random.choice([True, False], size)\n",
    "indices = np.where(indices)[0]\n",
    "subset = [p1[i] for i in indices]\n",
    "np.random.shuffle(subset)\n",
    "for i, e in enumerate(indices):\n",
    "    p1[e] = subset[i]\n"
   ]
  },
  {
   "cell_type": "code",
   "execution_count": 140,
   "metadata": {},
   "outputs": [
    {
     "data": {
      "text/plain": [
       "[[2, 16, 11, 3, 13, 6, 10, 8], [14]]"
      ]
     },
     "execution_count": 140,
     "metadata": {},
     "output_type": "execute_result"
    }
   ],
   "source": [
    "subset"
   ]
  },
  {
   "cell_type": "code",
   "execution_count": 141,
   "metadata": {},
   "outputs": [
    {
     "data": {
      "text/plain": [
       "array([0, 1], dtype=int64)"
      ]
     },
     "execution_count": 141,
     "metadata": {},
     "output_type": "execute_result"
    }
   ],
   "source": [
    "indices"
   ]
  },
  {
   "cell_type": "code",
   "execution_count": 142,
   "metadata": {},
   "outputs": [
    {
     "data": {
      "text/plain": [
       "[[14], [2, 16, 11, 3, 13, 6, 10, 8], [15, 7, 12, 1], [5, 4, 9]]"
      ]
     },
     "execution_count": 142,
     "metadata": {},
     "output_type": "execute_result"
    }
   ],
   "source": [
    "p1.representation"
   ]
  },
  {
   "cell_type": "code",
   "execution_count": 1,
   "metadata": {},
   "outputs": [],
   "source": [
    "def swap_mutation(individual, mutation_rate=0.1):\n",
    "    if np.random.rand() < mutation_rate:\n",
    "        idx1, idx2 = np.random.choice(len(individual), 2, replace=False)\n",
    "        individual[idx1], individual[idx2] = individual[idx2], individual[idx1]"
   ]
  },
  {
   "cell_type": "code",
   "execution_count": 14,
   "metadata": {},
   "outputs": [
    {
     "data": {
      "text/plain": [
       "[[13, 5, 12, 1, 3, 6], [9, 2, 14, 16], [7, 15, 4, 11, 10, 8], []]"
      ]
     },
     "execution_count": 14,
     "metadata": {},
     "output_type": "execute_result"
    }
   ],
   "source": [
    "p1.representation"
   ]
  },
  {
   "cell_type": "code",
   "execution_count": 33,
   "metadata": {},
   "outputs": [],
   "source": [
    "swap_mutation(p1.representation)"
   ]
  },
  {
   "cell_type": "code",
   "execution_count": 34,
   "metadata": {},
   "outputs": [
    {
     "data": {
      "text/plain": [
       "[[7, 15, 4, 11, 10, 8], [9, 2, 14, 16], [13, 5, 12, 1, 3, 6], []]"
      ]
     },
     "execution_count": 34,
     "metadata": {},
     "output_type": "execute_result"
    }
   ],
   "source": [
    "p1.representation"
   ]
  },
  {
   "cell_type": "code",
   "execution_count": 35,
   "metadata": {},
   "outputs": [],
   "source": [
    "from operator import attrgetter\n",
    "from random import sample, uniform, choice\n",
    "import numpy as np\n",
    "\n",
    "def select(population):\n",
    "    tournament = sample(population.individuals, k=3)\n",
    "    if population.optim == \"max\":\n",
    "        return max(tournament, key=attrgetter('fitness'))\n",
    "    else:\n",
    "        return min(tournament, key=attrgetter('fitness'))\n",
    "    \n",
    "\n",
    "\n",
    "def fps(population):\n",
    "    \"\"\"Fitness proportionate selection implementation.\n",
    "\n",
    "    Args:\n",
    "        population (Population): The population we want to select from.\n",
    "\n",
    "    Returns:\n",
    "        Individual: selected individual.\n",
    "    \"\"\"\n",
    "    if population.optim == \"max\":\n",
    "        total_fitness = sum([i.fitness for i in population])\n",
    "        r = uniform(0, total_fitness)\n",
    "        position = 0\n",
    "        for individual in population:\n",
    "            position += individual.fitness\n",
    "            if position > r:\n",
    "                return individual\n",
    "    elif population.optim == \"min\":\n",
    "        raise NotImplementedError\n",
    "    else:\n",
    "        raise Exception(f\"Optimization not specified (max/min)\")\n",
    "\n",
    "\n",
    "def tournament_sel(population, tour_size=3):\n",
    "    tournament = [choice(population) for _ in range(tour_size)]\n",
    "    if population.optim == \"max\":\n",
    "        return max(tournament, key=attrgetter('fitness'))\n",
    "    elif population.optim == \"min\":\n",
    "        return min(tournament, key=attrgetter('fitness'))\n",
    "\n",
    "\n",
    "def sigma_scaling_selection(population):\n",
    "    \"\"\"Sigma sclaing selection implementation. Reference: Mitchell, M. (1996). An introduction to genetic algorithms. https://doi.org/10.7551/mitpress/3927.001.0001 \n",
    "\n",
    "    Args:\n",
    "        population (Population): The population we want to select from.\n",
    "\n",
    "    Returns:\n",
    "        Individual: selected individual.\n",
    "    \"\"\"\n",
    "    fitnesses = [ind.fitness for ind in population.individuals]\n",
    "    mean = np.mean(fitnesses)\n",
    "    sigma = np.std(fitnesses)\n",
    "\n",
    "    #Under sigma scaling, an individual's expected value is a function of its fitness, the population mean, and the population standard deviation\n",
    "    if sigma == 0:\n",
    "        scaled_fitnesses = [1 for _ in fitnesses]\n",
    "    else:\n",
    "        scaled_fitnesses = [1 + (fitness - mean) / (2 * sigma) for fitness in fitnesses]\n",
    "\n",
    "    # Avoiding fitnesses of 0, so that individuals with very low fitness have some small chance of reproducing\n",
    "    scaled_fitnesses = [max(f, 0.1) for f in scaled_fitnesses]\n",
    "\n",
    "    total_scaled_fitness = sum(scaled_fitnesses)\n",
    "    r = np.random.uniform(0, total_scaled_fitness)\n",
    "    position = 0\n",
    "    # Select individual based on cumulative probability - it iterates through the population to find the individual whose cumulative probability exceeds the random value r\n",
    "    for individual, scaled_fitness in zip(population.individuals, scaled_fitnesses):\n",
    "        position += scaled_fitness\n",
    "        if position > r:\n",
    "            return individual\n",
    "        \n",
    "\n",
    "def rank_selection(population):\n",
    "    \"\"\"Rank selection implementation. \n",
    "\n",
    "    Args:\n",
    "        population (Population): The population we want to select from.\n",
    "\n",
    "    Returns:\n",
    "        Individual: selected individual.\n",
    "    \"\"\"\n",
    "    ranked_fitnesses = sorted([ind.fitness for ind in population.individuals])\n",
    "    n = population.size\n",
    "    #Using an arithmetic series to calculate the total rank\n",
    "    ranks = n * (n+1) / 2\n",
    "    \n",
    "    r = np.random.uniform(0, ranks)\n",
    "    position = 0\n",
    "    # Select individual based on cumulative probability - it iterates through the population to find the individual whose cumulative probability exceeds the random value r\n",
    "    for individual, rank in zip(population.individuals, ranked_fitnesses):\n",
    "        position += rank\n",
    "        if position > r:\n",
    "            return individual\n"
   ]
  },
  {
   "cell_type": "code",
   "execution_count": 36,
   "metadata": {},
   "outputs": [
    {
     "data": {
      "text/plain": [
       " Fitness: 10176"
      ]
     },
     "execution_count": 36,
     "metadata": {},
     "output_type": "execute_result"
    }
   ],
   "source": [
    "tournament_sel(P)"
   ]
  },
  {
   "cell_type": "code",
   "execution_count": 2,
   "metadata": {},
   "outputs": [
    {
     "data": {
      "image/png": "[encoded data removed]",
      "text/plain": [
       "<Figure size 1400x800 with 1 Axes>"
      ]
     },
     "metadata": {},
     "output_type": "display_data"
    },
    {
     "data": {
      "image/png": "[encoded data removed]",
      "text/plain": [
       "<Figure size 1400x800 with 1 Axes>"
      ]
     },
     "metadata": {},
     "output_type": "display_data"
    },
    {
     "data": {
      "image/png": "[encoded data removed]",
      "text/plain": [
       "<Figure size 1400x800 with 1 Axes>"
      ]
     },
     "metadata": {},
     "output_type": "display_data"
    }
   ],
   "source": [
    "import pandas as pd\n",
    "import seaborn as sns\n",
    "import matplotlib.pyplot as plt\n",
    "\n",
    "# Load the CSV data into a DataFrame\n",
    "data = pd.read_csv('sunday_log.csv')\n",
    "\n",
    "# Plot the evolution of bestfit for each selection function\n",
    "plt.figure(figsize=(14, 8))\n",
    "for selection_function in data['selection_function'].unique():\n",
    "    subset = data[data['selection_function'] == selection_function]\n",
    "    sns.lineplot(x='generations', y='bestfit', data=subset, label=selection_function)\n",
    "plt.xlabel('Generations')\n",
    "plt.ylabel('Best Fitness')\n",
    "plt.title('Evolution of Best Fitness for Different Selection Functions')\n",
    "plt.legend(loc='best')\n",
    "plt.show()\n",
    "\n",
    "# Plot the evolution of bestfit for each mutation function\n",
    "plt.figure(figsize=(14, 8))\n",
    "for mutation_function in data['mutation_function'].unique():\n",
    "    subset = data[data['mutation_function'] == mutation_function]\n",
    "    sns.lineplot(x='generations', y='bestfit', data=subset, label=mutation_function)\n",
    "plt.xlabel('Generations')\n",
    "plt.ylabel('Best Fitness')\n",
    "plt.title('Evolution of Best Fitness for Different Mutation Functions')\n",
    "plt.legend(loc='best')\n",
    "plt.show()\n",
    "\n",
    "# Plot the evolution of bestfit for each crossover function\n",
    "plt.figure(figsize=(14, 8))\n",
    "for xo_function in data['xo_function'].unique():\n",
    "    subset = data[data['xo_function'] == xo_function]\n",
    "    sns.lineplot(x='generations', y='bestfit', data=subset, label=xo_function)\n",
    "plt.xlabel('Generations')\n",
    "plt.ylabel('Best Fitness')\n",
    "plt.title('Evolution of Best Fitness for Different Crossover Functions')\n",
    "plt.legend(loc='best')\n",
    "plt.show()\n"
   ]
  },
  {
   "cell_type": "code",
   "execution_count": 37,
   "metadata": {},
   "outputs": [
    {
     "data": {
      "text/plain": [
       " Fitness: 10176"
      ]
     },
     "execution_count": 37,
     "metadata": {},
     "output_type": "execute_result"
    }
   ],
   "source": [
    "select(P)"
   ]
  },
  {
   "cell_type": "code",
   "execution_count": 38,
   "metadata": {},
   "outputs": [
    {
     "ename": "NotImplementedError",
     "evalue": "",
     "output_type": "error",
     "traceback": [
      "\u001b[1;31m---------------------------------------------------------------------------\u001b[0m",
      "\u001b[1;31mNotImplementedError\u001b[0m                       Traceback (most recent call last)",
      "Cell \u001b[1;32mIn[38], line 1\u001b[0m\n\u001b[1;32m----> 1\u001b[0m \u001b[43mfps\u001b[49m\u001b[43m(\u001b[49m\u001b[43mP\u001b[49m\u001b[43m)\u001b[49m\n",
      "Cell \u001b[1;32mIn[35], line 32\u001b[0m, in \u001b[0;36mfps\u001b[1;34m(population)\u001b[0m\n\u001b[0;32m     30\u001b[0m             \u001b[38;5;28;01mreturn\u001b[39;00m individual\n\u001b[0;32m     31\u001b[0m \u001b[38;5;28;01melif\u001b[39;00m population\u001b[38;5;241m.\u001b[39moptim \u001b[38;5;241m==\u001b[39m \u001b[38;5;124m\"\u001b[39m\u001b[38;5;124mmin\u001b[39m\u001b[38;5;124m\"\u001b[39m:\n\u001b[1;32m---> 32\u001b[0m     \u001b[38;5;28;01mraise\u001b[39;00m \u001b[38;5;167;01mNotImplementedError\u001b[39;00m\n\u001b[0;32m     33\u001b[0m \u001b[38;5;28;01melse\u001b[39;00m:\n\u001b[0;32m     34\u001b[0m     \u001b[38;5;28;01mraise\u001b[39;00m \u001b[38;5;167;01mException\u001b[39;00m(\u001b[38;5;124mf\u001b[39m\u001b[38;5;124m\"\u001b[39m\u001b[38;5;124mOptimization not specified (max/min)\u001b[39m\u001b[38;5;124m\"\u001b[39m)\n",
      "\u001b[1;31mNotImplementedError\u001b[0m: "
     ]
    }
   ],
   "source": [
    "fps(P)"
   ]
  },
  {
   "cell_type": "code",
   "execution_count": null,
   "metadata": {},
   "outputs": [],
   "source": []
  }
 ],
 "metadata": {
  "kernelspec": {
   "display_name": "Python 3",
   "language": "python",
   "name": "python3"
  },
  "language_info": {
   "codemirror_mode": {
    "name": "ipython",
    "version": 3
   },
   "file_extension": ".py",
   "mimetype": "text/x-python",
   "name": "python",
   "nbconvert_exporter": "python",
   "pygments_lexer": "ipython3",
   "version": "3.10.7"
  }
 },
 "nbformat": 4,
 "nbformat_minor": 2
}
