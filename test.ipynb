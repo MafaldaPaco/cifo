{
 "cells": [
  {
   "cell_type": "code",
   "execution_count": 1,
   "metadata": {},
   "outputs": [],
   "source": [
    "import numpy as np\n",
    "\n",
    "def geometric_xo(p1, p2):\n",
    "    offspring1 = [[None for elem in layer] for layer in p1]  # Initialize offspring with the structure of parent 1\n",
    "    offspring2 = [[None for elem in layer] for layer in p2]  # Initialize offspring with the structure of parent 2\n",
    "    \n",
    "    for layer in range(len(p1)):\n",
    "        for elem in range(len(p1[layer])):\n",
    "            if elem % 3 == 1:  # Coordinates are in the second column of each layer\n",
    "                r = np.random.uniform()\n",
    "                offspring1[layer][elem] = r * p1[layer][elem] + (1 - r) * p2[layer][elem]\n",
    "                offspring2[layer][elem] = r * p2[layer][elem] + (1 - r) * p1[layer][elem]\n",
    "            else: \n",
    "                offspring1[layer][elem] = p1[layer][elem]\n",
    "                offspring2[layer][elem] = p2[layer][elem]\n",
    "\n",
    "    return offspring1, offspring2"
   ]
  },
  {
   "cell_type": "code",
   "execution_count": 2,
   "metadata": {},
   "outputs": [],
   "source": [
    "p1, p2 = [ [288, 50.388445, 4.8229103, \"BOIS-DE-VILLERS\"], [291, 50.6009713, 4.9284973, \"BOLINNE\"], [294, 50.3768155, 5.52394, \"BOMAL-SUR-OURTHE\"] ], [ [307, 51.0873534, 2.7440942, \"BOOITSHOEKE\"], [310, 50.9803397, 4.5744373, \"BOORTMEERBEEK\"], [313, 50.7962111, 5.3462923, \"BORGLOON\"]]\n",
    "o1, o2 = geometric_xo(p1, p2)"
   ]
  },
  {
   "cell_type": "code",
   "execution_count": 3,
   "metadata": {},
   "outputs": [
    {
     "data": {
      "text/plain": [
       "[[288, 50.4535771287648, 4.8229103, 'BOIS-DE-VILLERS'],\n",
       " [291, 50.90418620122994, 4.9284973, 'BOLINNE'],\n",
       " [294, 50.622435328115756, 5.52394, 'BOMAL-SUR-OURTHE']]"
      ]
     },
     "execution_count": 3,
     "metadata": {},
     "output_type": "execute_result"
    }
   ],
   "source": [
    "o1"
   ]
  },
  {
   "cell_type": "code",
   "execution_count": 4,
   "metadata": {},
   "outputs": [
    {
     "name": "stdout",
     "output_type": "stream",
     "text": [
      "[[288, 50.70622083095586, 4.8229103, 'BOIS-DE-VILLERS'], [291, 50.935632874616125, 4.9284973, 'BOLINNE'], [294, 50.59148994978963, 5.52394, 'BOMAL-SUR-OURTHE']] [[307, 50.76957756904413, 2.7440942, 'BOOITSHOEKE'], [310, 50.645678125383874, 4.5744373, 'BOORTMEERBEEK'], [313, 50.58153665021037, 5.3462923, 'BORGLOON']]\n"
     ]
    }
   ],
   "source": [
    "print([[288, 50.70622083095586, 4.8229103, 'BOIS-DE-VILLERS'], [291, 50.935632874616125, 4.9284973, 'BOLINNE'], [294, 50.59148994978963, 5.52394, 'BOMAL-SUR-OURTHE']], [[307, 50.76957756904413, 2.7440942, 'BOOITSHOEKE'], [310, 50.645678125383874, 4.5744373, 'BOORTMEERBEEK'], [313, 50.58153665021037, 5.3462923, 'BORGLOON']])"
   ]
  },
  {
   "cell_type": "code",
   "execution_count": 7,
   "metadata": {},
   "outputs": [
    {
     "ename": "TypeError",
     "evalue": "'int' object is not iterable",
     "output_type": "error",
     "traceback": [
      "\u001b[1;31m---------------------------------------------------------------------------\u001b[0m",
      "\u001b[1;31mTypeError\u001b[0m                                 Traceback (most recent call last)",
      "Cell \u001b[1;32mIn[7], line 1\u001b[0m\n\u001b[1;32m----> 1\u001b[0m [[\u001b[38;5;28;01mNone\u001b[39;00m \u001b[38;5;28;01mfor\u001b[39;00m elem \u001b[38;5;129;01min\u001b[39;00m layer] \u001b[38;5;28;01mfor\u001b[39;00m layer \u001b[38;5;129;01min\u001b[39;00m [\u001b[38;5;241m288\u001b[39m, \u001b[38;5;241m50.70622083095586\u001b[39m, \u001b[38;5;241m4.8229103\u001b[39m, \u001b[38;5;124m'\u001b[39m\u001b[38;5;124mBOIS-DE-VILLERS\u001b[39m\u001b[38;5;124m'\u001b[39m]]\n",
      "Cell \u001b[1;32mIn[7], line 1\u001b[0m, in \u001b[0;36m<listcomp>\u001b[1;34m(.0)\u001b[0m\n\u001b[1;32m----> 1\u001b[0m [[\u001b[38;5;28;01mNone\u001b[39;00m \u001b[38;5;28;01mfor\u001b[39;00m elem \u001b[38;5;129;01min\u001b[39;00m layer] \u001b[38;5;28;01mfor\u001b[39;00m layer \u001b[38;5;129;01min\u001b[39;00m [\u001b[38;5;241m288\u001b[39m, \u001b[38;5;241m50.70622083095586\u001b[39m, \u001b[38;5;241m4.8229103\u001b[39m, \u001b[38;5;124m'\u001b[39m\u001b[38;5;124mBOIS-DE-VILLERS\u001b[39m\u001b[38;5;124m'\u001b[39m]]\n",
      "\u001b[1;31mTypeError\u001b[0m: 'int' object is not iterable"
     ]
    }
   ],
   "source": [
    "[[None for elem in layer] for layer in [288, 50.70622083095586, 4.8229103, 'BOIS-DE-VILLERS']]"
   ]
  },
  {
   "cell_type": "code",
   "execution_count": null,
   "metadata": {},
   "outputs": [],
   "source": []
  }
 ],
 "metadata": {
  "kernelspec": {
   "display_name": "Python 3",
   "language": "python",
   "name": "python3"
  },
  "language_info": {
   "codemirror_mode": {
    "name": "ipython",
    "version": 3
   },
   "file_extension": ".py",
   "mimetype": "text/x-python",
   "name": "python",
   "nbconvert_exporter": "python",
   "pygments_lexer": "ipython3",
   "version": "3.10.7"
  }
 },
 "nbformat": 4,
 "nbformat_minor": 2
}
